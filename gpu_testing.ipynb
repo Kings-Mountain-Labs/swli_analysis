{
 "cells": [
  {
   "cell_type": "code",
   "execution_count": 1,
   "metadata": {},
   "outputs": [],
   "source": [
    "import fft_interp\n",
    "import torch\n",
    "import numpy as np\n",
    "import plotly.express as px\n",
    "import plotly.graph_objects as go\n",
    "from scipy.signal import hilbert, butter, filtfilt\n"
   ]
  },
  {
   "cell_type": "code",
   "execution_count": null,
   "metadata": {},
   "outputs": [],
   "source": [
    "if torch.backends.mps.is_available():\n",
    "    mps_device = torch.device(\"mps\")\n",
    "    x = torch.ones(1, device=mps_device)\n",
    "    print (x)\n",
    "else:\n",
    "    print (\"MPS device not found.\")"
   ]
  },
  {
   "cell_type": "code",
   "execution_count": 3,
   "metadata": {},
   "outputs": [],
   "source": [
    "frames = fft_interp.get_frames(\"videos/rawglasssmall.avi\")\n",
    "\n"
   ]
  },
  {
   "cell_type": "code",
   "execution_count": null,
   "metadata": {},
   "outputs": [],
   "source": [
    "frames.shape"
   ]
  },
  {
   "cell_type": "code",
   "execution_count": 5,
   "metadata": {},
   "outputs": [],
   "source": [
    "# frames = frames[:, :50, :50]"
   ]
  },
  {
   "cell_type": "code",
   "execution_count": 6,
   "metadata": {},
   "outputs": [],
   "source": [
    "def hilbert_transform_1d_torch(data_torch, axis: int = -1) -> torch.Tensor:\n",
    "    \"\"\"\n",
    "    Compute the 1D Hilbert transform of a 3D real array along the specified axis\n",
    "    using PyTorch's FFT operations.\n",
    "\n",
    "    Parameters\n",
    "    ----------\n",
    "    data_np : np.ndarray\n",
    "        A 3D real-valued NumPy array (e.g. shape (X, Y, Z)).\n",
    "    axis : int\n",
    "        The axis along which to compute the 1D Hilbert transform.\n",
    "\n",
    "    Returns\n",
    "    -------\n",
    "    hilbert : np.ndarray\n",
    "        A PyTorch tensor containing the Hilbert transform of data_np\n",
    "        along the specified axis. The shape matches data_np, but the dtype\n",
    "        is float (matching the imaginary result of the inverse FFT).\n",
    "    \"\"\"\n",
    "\n",
    "    # Convert the NumPy array to a PyTorch tensor (float or double)\n",
    "    # We'll assume float32 here; adjust as needed\n",
    "    # data_torch = torch.from_numpy(data_np).to(torch.float32)\n",
    "\n",
    "    # FFT along the chosen axis\n",
    "    data_fft = torch.fft.fft(data_torch, dim=axis)\n",
    "\n",
    "    # Prepare the frequency-domain multiplier for the Hilbert transform\n",
    "    n = data_torch.size(axis)\n",
    "\n",
    "    # Create an empty complex filter (shape = n), initially zeros\n",
    "    hilb_filter = torch.zeros(n, dtype=torch.complex64, device=data_fft.device)\n",
    "\n",
    "    # Handle even/odd length along 'axis'\n",
    "    #   - DC component (k=0) and (if even length) Nyquist freq (k=n/2) remain 0\n",
    "    #   - For 1 <= k < n/2: multiply by -j\n",
    "    #   - For n/2 < k < n: multiply by +j\n",
    "    if n % 2 == 0:\n",
    "        # Even number of points\n",
    "        #  - Positive freqs are indices [1 ... n/2 - 1]\n",
    "        #  - Nyquist freq is index n/2\n",
    "        hilb_filter[1 : (n // 2)] = -1j\n",
    "        hilb_filter[(n // 2 + 1) : ] = 1j\n",
    "    else:\n",
    "        # Odd number of points\n",
    "        #  - Positive freqs are indices [1 ... (n-1)//2]\n",
    "        #  - Negative freqs are indices [(n+1)//2 ... n-1]\n",
    "        half_n = (n + 1) // 2\n",
    "        hilb_filter[1 : half_n] = -1j\n",
    "        hilb_filter[half_n : ] = 1j\n",
    "\n",
    "    # Reshape the filter so it can broadcast along 'axis' in a 3D tensor\n",
    "    # Build a shape of [1,1,1] and replace the dimension at 'axis' with n\n",
    "    shape = [1, 1, 1]\n",
    "    shape[axis] = n\n",
    "    hilb_filter = hilb_filter.reshape(shape)\n",
    "\n",
    "    # Apply the Hilbert filter in the frequency domain\n",
    "    data_fft_filtered = data_fft * hilb_filter\n",
    "\n",
    "    # Inverse FFT to get the Hilbert transform in time/space domain\n",
    "    # The result is, in general, a complex tensor whose imaginary part\n",
    "    # corresponds to the Hilbert transform of the original data.\n",
    "    data_ifft = torch.fft.ifft(data_fft_filtered, dim=axis)\n",
    "\n",
    "    return data_ifft"
   ]
  },
  {
   "cell_type": "code",
   "execution_count": null,
   "metadata": {},
   "outputs": [],
   "source": [
    "gpu_frames = torch.tensor(frames, dtype=torch.float32)\n",
    "gpu_frames = gpu_frames.to(mps_device)\n",
    "hilbert_ed = hilbert_transform_1d_torch(gpu_frames, axis=0)\n",
    "hilbert_ed = hilbert_ed.cpu().numpy()\n",
    "# plot for one pixel to debug\n",
    "\n",
    "hilbert_ed = np.abs(hilbert_ed)\n",
    "\n",
    "b, a = butter(2, 0.01, btype='lowpass')\n",
    "\n",
    "filtered_envelope = filtfilt(b, a, hilbert_ed, axis=0)\n",
    "height_map = np.argmax(filtered_envelope, axis=0)\n",
    "\n",
    "SCAN_SPEED = 0.25  # Microns per second\n",
    "FPS = 30\n",
    "\n",
    "microns_per_frame = SCAN_SPEED * 1 / FPS\n",
    "\n",
    "height_map = height_map *microns_per_frame"
   ]
  },
  {
   "cell_type": "code",
   "execution_count": null,
   "metadata": {},
   "outputs": [],
   "source": [
    "fft_interp.plot_height_map(height_map)"
   ]
  },
  {
   "cell_type": "code",
   "execution_count": null,
   "metadata": {},
   "outputs": [],
   "source": [
    "fig = px.line(y=hilbert_ed[:, 0, 0])\n",
    "fig.add_scatter(y=frames[:, 0, 0])\n",
    "fig.add_scatter(y=filtered_envelope[:, 0, 0])\n",
    "fig.show()"
   ]
  }
 ],
 "metadata": {
  "kernelspec": {
   "display_name": ".venv",
   "language": "python",
   "name": "python3"
  },
  "language_info": {
   "codemirror_mode": {
    "name": "ipython",
    "version": 3
   },
   "file_extension": ".py",
   "mimetype": "text/x-python",
   "name": "python",
   "nbconvert_exporter": "python",
   "pygments_lexer": "ipython3",
   "version": "3.11.5"
  }
 },
 "nbformat": 4,
 "nbformat_minor": 2
}
