{
 "cells": [
  {
   "cell_type": "code",
   "execution_count": 1,
   "metadata": {},
   "outputs": [],
   "source": [
    "import fft_interp\n",
    "import torch\n",
    "import numpy as np\n",
    "import plotly.express as px\n",
    "import plotly.graph_objects as go\n",
    "from scipy.signal import hilbert, butter, filtfilt, sosfiltfilt\n"
   ]
  },
  {
   "cell_type": "code",
   "execution_count": 2,
   "metadata": {},
   "outputs": [],
   "source": [
    "frames = fft_interp.get_frames(\"videos/rawglasssmall.avi\", greyscale=False)\n"
   ]
  },
  {
   "cell_type": "code",
   "execution_count": null,
   "metadata": {},
   "outputs": [],
   "source": [
    "frames.shape"
   ]
  },
  {
   "cell_type": "code",
   "execution_count": 4,
   "metadata": {},
   "outputs": [],
   "source": [
    "red = frames[:, :, :, 2]\n",
    "green = frames[:, :, :, 1]\n",
    "blue = frames[:, :, :, 0]\n"
   ]
  },
  {
   "cell_type": "code",
   "execution_count": null,
   "metadata": {},
   "outputs": [],
   "source": [
    "x, y = 200, 600\n",
    "figure = go.Figure()\n",
    "figure.add_scatter(y=red[:, x, y], name=\"red\")\n",
    "figure.add_scatter(y=green[:, x, y], name=\"green\")\n",
    "figure.add_scatter(y=blue[:, x, y], name=\"blue\")\n",
    "figure.show()\n"
   ]
  },
  {
   "cell_type": "code",
   "execution_count": null,
   "metadata": {},
   "outputs": [],
   "source": [
    "red_height_map = fft_interp.analyze_video(red, method=\"hilbert_gpu\", scan_speed=fft_interp.SCAN_SPEED, fps=fft_interp.FPS)\n",
    "fft_interp.plot_heat_map(red_height_map)"
   ]
  },
  {
   "cell_type": "code",
   "execution_count": null,
   "metadata": {},
   "outputs": [],
   "source": [
    "green_height_map = fft_interp.analyze_video(green, method=\"hilbert_gpu\", scan_speed=fft_interp.SCAN_SPEED, fps=fft_interp.FPS)\n",
    "fft_interp.plot_heat_map(green_height_map)"
   ]
  },
  {
   "cell_type": "code",
   "execution_count": null,
   "metadata": {},
   "outputs": [],
   "source": [
    "blue_height_map = fft_interp.analyze_video(blue, method=\"hilbert_gpu\", scan_speed=fft_interp.SCAN_SPEED, fps=fft_interp.FPS)\n",
    "fft_interp.plot_heat_map(blue_height_map)"
   ]
  },
  {
   "cell_type": "code",
   "execution_count": null,
   "metadata": {},
   "outputs": [],
   "source": [
    "# make a histogram of all of the heights for each color\n",
    "fig = go.Figure()\n",
    "\n",
    "fig.add_trace(go.Histogram(x=blue_height_map.flatten(), name=\"blue\"))\n",
    "fig.add_trace(go.Histogram(x=red_height_map.flatten(), name=\"red\", ))\n",
    "fig.add_trace(go.Histogram(x=green_height_map.flatten(), name=\"green\"))\n",
    "fig.show()"
   ]
  }
 ],
 "metadata": {
  "kernelspec": {
   "display_name": ".venv",
   "language": "python",
   "name": "python3"
  },
  "language_info": {
   "codemirror_mode": {
    "name": "ipython",
    "version": 3
   },
   "file_extension": ".py",
   "mimetype": "text/x-python",
   "name": "python",
   "nbconvert_exporter": "python",
   "pygments_lexer": "ipython3",
   "version": "3.11.9"
  }
 },
 "nbformat": 4,
 "nbformat_minor": 2
}
