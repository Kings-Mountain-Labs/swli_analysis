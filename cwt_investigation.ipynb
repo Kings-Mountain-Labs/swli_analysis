{
 "cells": [
  {
   "cell_type": "code",
   "execution_count": 1,
   "metadata": {},
   "outputs": [],
   "source": [
    "import fft_interp\n",
    "import torch\n",
    "import numpy as np\n",
    "import plotly.express as px\n",
    "import plotly.graph_objects as go\n",
    "from scipy.signal import hilbert, butter, filtfilt, sosfiltfilt\n",
    "import pywt\n"
   ]
  },
  {
   "cell_type": "code",
   "execution_count": null,
   "metadata": {},
   "outputs": [],
   "source": [
    "red, green, blue = fft_interp.split_rgb(fft_interp.get_frames(\"videos/rawglasssmall.avi\", greyscale=False))"
   ]
  },
  {
   "cell_type": "code",
   "execution_count": null,
   "metadata": {},
   "outputs": [],
   "source": [
    "x, y = 400, 400\n",
    "intensity_profile = red[:, x, y]  # Extract pixel intensity over time\n",
    "wavelet = pywt.Wavelet(\"haar\")\n",
    "ca, cd = pywt.dwt(intensity_profile, wavelet)\n",
    "cd_clean = np.zeros(cd.shape)\n",
    "cleaned = pywt.idwt(ca, cd_clean, wavelet)\n",
    "fig = go.Figure()\n",
    "fig.add_scatter(y=intensity_profile)\n",
    "fig.add_scatter(y=ca)\n",
    "fig.add_scatter(y=cd)\n",
    "fig.add_scatter(y=cleaned)\n",
    "fig.show()"
   ]
  },
  {
   "cell_type": "code",
   "execution_count": null,
   "metadata": {},
   "outputs": [],
   "source": [
    "# wavelet = pywt.ContinuousWavelet(\"morl\")\n",
    "wavelet = pywt.ContinuousWavelet(\"cmor2.5-1.5\")\n",
    "# scales = np.geomspace(30, 40, num=10)\n",
    "scales = 35\n",
    "sampling_frequency = 30\n",
    "sampling_period = 1/sampling_frequency\n",
    "time = np.linspace(0, intensity_profile.shape[0]/sampling_frequency, intensity_profile.shape[0])\n",
    "coeffs, frequency = pywt.cwt(intensity_profile, scales, wavelet, sampling_period)\n",
    "magnitude = np.abs(coeffs)\n",
    "# ridge_scales = scales[np.argmax(magnitude, axis=0)]\n",
    "f_c = 1.5\n",
    "# instantaneous_freq = f_c / ridge_scales\n",
    "instantaneous_freq = frequency[np.argmax(magnitude, axis=0)]\n",
    "fig = go.Figure()\n",
    "fig.add_heatmap(z=magnitude, x=time, y=frequency)\n",
    "fig.update_layout(title=\"Continuous Wavelet Transform\", yaxis=dict(type=\"log\"))\n",
    "# fig.update_yaxes(range=[0, 80])\n",
    "fig.show()\n",
    "fig2 = go.Figure()\n",
    "fig2.add_scatter(x=time, y=intensity_profile)\n",
    "fig2.add_scatter(x=time, y=instantaneous_freq)\n",
    "fig2.show()"
   ]
  },
  {
   "cell_type": "code",
   "execution_count": null,
   "metadata": {},
   "outputs": [],
   "source": [
    "\n",
    "coeffs.shape"
   ]
  },
  {
   "cell_type": "code",
   "execution_count": null,
   "metadata": {},
   "outputs": [],
   "source": [
    "scales"
   ]
  }
 ],
 "metadata": {
  "kernelspec": {
   "display_name": ".venv",
   "language": "python",
   "name": "python3"
  },
  "language_info": {
   "codemirror_mode": {
    "name": "ipython",
    "version": 3
   },
   "file_extension": ".py",
   "mimetype": "text/x-python",
   "name": "python",
   "nbconvert_exporter": "python",
   "pygments_lexer": "ipython3",
   "version": "3.11.9"
  }
 },
 "nbformat": 4,
 "nbformat_minor": 2
}
