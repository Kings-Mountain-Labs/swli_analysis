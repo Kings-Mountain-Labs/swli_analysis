{
 "cells": [
  {
   "cell_type": "code",
   "execution_count": 1,
   "metadata": {},
   "outputs": [],
   "source": [
    "import fft_interp\n",
    "import torch\n",
    "import numpy as np\n",
    "import plotly.express as px\n",
    "import plotly.graph_objects as go\n",
    "from scipy.signal import hilbert, butter, filtfilt, sosfiltfilt\n",
    "import pywt\n"
   ]
  },
  {
   "cell_type": "code",
   "execution_count": null,
   "metadata": {},
   "outputs": [],
   "source": [
    "red, green, blue = fft_interp.split_rgb(fft_interp.get_frames(\"videos/rawglasssmall.avi\", greyscale=False))"
   ]
  },
  {
   "cell_type": "code",
   "execution_count": null,
   "metadata": {},
   "outputs": [],
   "source": [
    "x, y = 400, 400\n",
    "intensity_profile = red[:, x, y]  # Extract pixel intensity over time\n",
    "wavelet = pywt.Wavelet(\"sym8\")\n",
    "dwt_profile = pywt.wavedec(intensity_profile, wavelet, level=3)\n",
    "\n",
    "fig = px.line(y=intensity_profile)\n",
    "fig.add_scatter(y=dwt_profile)\n",
    "fig.show()"
   ]
  }
 ],
 "metadata": {
  "kernelspec": {
   "display_name": ".venv",
   "language": "python",
   "name": "python3"
  },
  "language_info": {
   "codemirror_mode": {
    "name": "ipython",
    "version": 3
   },
   "file_extension": ".py",
   "mimetype": "text/x-python",
   "name": "python",
   "nbconvert_exporter": "python",
   "pygments_lexer": "ipython3",
   "version": "3.11.5"
  }
 },
 "nbformat": 4,
 "nbformat_minor": 2
}
